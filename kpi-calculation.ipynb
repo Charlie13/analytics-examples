{
 "cells": [
  {
   "cell_type": "markdown",
   "metadata": {},
   "source": [
    "# Introduction to MindSphere Analytics APIs - KPI Calculation"
   ]
  },
  {
   "cell_type": "markdown",
   "metadata": {},
   "source": [
    "This demo will use the mindconnect-nodejs CLI to call the mindsphere APIs. \n",
    "The information about the installation and usage of CLI:\n",
    "\n",
    "https://opensource.mindsphere.io/docs/mindconnect-nodejs/cli/index.html\n",
    "\n",
    "\n",
    "You will need to get and configure the service credentials to use this notebook. \n",
    "Here is a description how to acquire and setup the service credentials:\n",
    "\n",
    "https://opensource.mindsphere.io/docs/mindconnect-nodejs/li/setting-up-the-cli.html\n",
    "\n",
    "This is only a **demo** for the MindSphere KPI calculation API \n",
    "\n",
    "https://developer.mindsphere.io/apis/analytics-kpicalculation/api-kpicalculation-overview.html\n",
    "\n",
    "\n",
    "\n",
    "## Setup the mindconnect-nodejs CLI\n",
    "\n",
    "please change the line below to the passkey you were using when setting up the service credentials:"
   ]
  },
  {
   "cell_type": "code",
   "execution_count": 1,
   "metadata": {},
   "outputs": [],
   "source": [
    "passkey = \"passkey.4.unit.test\""
   ]
  },
  {
   "cell_type": "markdown",
   "metadata": {},
   "source": [
    "## KPI Calculation with CLI\n",
    "\n",
    "```mc kpi-calculation``` CLI command:"
   ]
  },
  {
   "cell_type": "code",
   "execution_count": 2,
   "metadata": {},
   "outputs": [
    {
     "name": "stdout",
     "output_type": "stream",
     "text": [
      "Usage: mc kpi-calculation|kp [options]\n",
      "\n",
      "calculate kpi states or compute kpis @\n",
      "\n",
      "Options:\n",
      "  -f, --file <timeseries>            timeseries file (default:\n",
      "                                     \"timeseries-sample.json\")\n",
      "  -c, --calendar <calendar>          timeseries with planned outages\n",
      "  -e, --events <events>              timeseries with control system events\n",
      "  -m, --mode [states|kpis]           mode see @ Additional Documentation\n",
      "  -t, --target <target>              target variable\n",
      "  -n, --initialstate <initialstate>  Initial state [RSH, SH, POH, FOH]\n",
      "                                     (default: \"RSH\")\n",
      "  -d, --defaultstate <defaultstate>  Default state [RSH, FOH] (default: \"FOH\")\n",
      "  -h, --threshold <threshold>        threshold parameter (default: 1)\n",
      "  -s, --shutdown <shutdown>          shutdown threshold parameter in\n",
      "                                     milliseconds (default: 5000)\n",
      "  -y, --retry <number>               retry attempts before giving up (default:\n",
      "                                     3)\n",
      "  -p, --passkey <passkey>            passkey\n",
      "  -v, --verbose                      verbose output\n",
      "  -h, --help                         output usage information\n",
      "\n",
      "  Examples:\n",
      "\n",
      "    mc kpi-calculation --mode states --file timeseries.json --calendar calendar.json  --target Temperature --threshold 30 \t calculate kpi states based on temperature\n",
      "    mc kpi-calculation --mode kpis --file blubb.json --target state  \t calculate kpis for state timeseries\n",
      "\n",
      "  State KPIs:\n",
      "\n",
      "    No Data Hours (NoData), Period Hours (PH), Available Hours (AH) Service Hours (SH) \n",
      "    Reserve Shutdown Hours (RSH), Unavailble Hours (UH), Planned Outage Hours (POH) Forced Outage Hours (FOH) \n",
      "\n",
      "  Additional Documentation:\n",
      "\n",
      "    https://developer.mindsphere.io/apis/analytics-kpicalculation/api-kpicalculation-basics-kpi.html\n",
      "\n",
      "  Important: \n",
      "\n",
      "    you need to supply the service credentials for this operation and provide the passkey \n",
      "\n",
      "    how to get service credentials: \n",
      "    https://developer.mindsphere.io/howto/howto-selfhosted-api-access.html#creating-service-credentials\n",
      "\n",
      "  More Information: \n",
      "\n",
      "    https://opensource.mindsphere.io\n",
      "\n"
     ]
    }
   ],
   "source": [
    "!mc kpi-calculation --help"
   ]
  },
  {
   "cell_type": "markdown",
   "metadata": {},
   "source": [
    "## Setup the jupyter notebook"
   ]
  },
  {
   "cell_type": "code",
   "execution_count": 3,
   "metadata": {},
   "outputs": [],
   "source": [
    "%matplotlib inline\n",
    "import matplotlib.pyplot as plt\n",
    "import pandas as pd\n",
    "import json\n",
    "from pandas import json_normalize\n",
    "plt.rcParams['figure.figsize'] = [8, 8]"
   ]
  },
  {
   "cell_type": "markdown",
   "metadata": {},
   "source": [
    "## Calculating KPIs\n",
    "\n",
    "This uses the example request from the [documentation](https://developer.mindsphere.io/apis/analytics-kpicalculation/api-kpicalculation-samples.html) for calculation\n",
    "\n",
    "![](https://developer.mindsphere.io/apis/analytics-kpicalculation/images/Use-case-1-Example.png)"
   ]
  },
  {
   "cell_type": "code",
   "execution_count": 4,
   "metadata": {},
   "outputs": [
    {
     "data": {
      "text/html": [
       "<div>\n",
       "<style scoped>\n",
       "    .dataframe tbody tr th:only-of-type {\n",
       "        vertical-align: middle;\n",
       "    }\n",
       "\n",
       "    .dataframe tbody tr th {\n",
       "        vertical-align: top;\n",
       "    }\n",
       "\n",
       "    .dataframe thead th {\n",
       "        text-align: right;\n",
       "    }\n",
       "</style>\n",
       "<table border=\"1\" class=\"dataframe\">\n",
       "  <thead>\n",
       "    <tr style=\"text-align: right;\">\n",
       "      <th></th>\n",
       "      <th>_time</th>\n",
       "      <th>kpistatus</th>\n",
       "    </tr>\n",
       "  </thead>\n",
       "  <tbody>\n",
       "    <tr>\n",
       "      <th>0</th>\n",
       "      <td>2017-05-04 00:00:00+00:00</td>\n",
       "      <td>NaN</td>\n",
       "    </tr>\n",
       "    <tr>\n",
       "      <th>1</th>\n",
       "      <td>2017-05-04 00:30:00+00:00</td>\n",
       "      <td>NaN</td>\n",
       "    </tr>\n",
       "    <tr>\n",
       "      <th>2</th>\n",
       "      <td>2017-05-04 01:00:00+00:00</td>\n",
       "      <td>UNKNOWN</td>\n",
       "    </tr>\n",
       "    <tr>\n",
       "      <th>3</th>\n",
       "      <td>2017-05-04 01:30:00+00:00</td>\n",
       "      <td>UNKNOWN</td>\n",
       "    </tr>\n",
       "    <tr>\n",
       "      <th>4</th>\n",
       "      <td>2017-05-04 02:00:00+00:00</td>\n",
       "      <td>UNKNOWN</td>\n",
       "    </tr>\n",
       "    <tr>\n",
       "      <th>5</th>\n",
       "      <td>2017-05-04 02:30:00+00:00</td>\n",
       "      <td>SH</td>\n",
       "    </tr>\n",
       "    <tr>\n",
       "      <th>6</th>\n",
       "      <td>2017-05-04 03:00:00+00:00</td>\n",
       "      <td>SH</td>\n",
       "    </tr>\n",
       "    <tr>\n",
       "      <th>7</th>\n",
       "      <td>2017-05-04 03:30:00+00:00</td>\n",
       "      <td>POH</td>\n",
       "    </tr>\n",
       "    <tr>\n",
       "      <th>8</th>\n",
       "      <td>2017-05-04 04:00:00+00:00</td>\n",
       "      <td>SH</td>\n",
       "    </tr>\n",
       "    <tr>\n",
       "      <th>9</th>\n",
       "      <td>2017-05-04 04:30:00+00:00</td>\n",
       "      <td>SH</td>\n",
       "    </tr>\n",
       "    <tr>\n",
       "      <th>10</th>\n",
       "      <td>2017-05-04 05:00:00+00:00</td>\n",
       "      <td>POH</td>\n",
       "    </tr>\n",
       "    <tr>\n",
       "      <th>11</th>\n",
       "      <td>2017-05-04 05:30:00+00:00</td>\n",
       "      <td>NaN</td>\n",
       "    </tr>\n",
       "    <tr>\n",
       "      <th>12</th>\n",
       "      <td>2017-05-04 06:00:00+00:00</td>\n",
       "      <td>NaN</td>\n",
       "    </tr>\n",
       "    <tr>\n",
       "      <th>13</th>\n",
       "      <td>2017-05-04 06:30:00+00:00</td>\n",
       "      <td>UNKNOWN</td>\n",
       "    </tr>\n",
       "    <tr>\n",
       "      <th>14</th>\n",
       "      <td>2017-05-04 07:00:00+00:00</td>\n",
       "      <td>FOH</td>\n",
       "    </tr>\n",
       "    <tr>\n",
       "      <th>15</th>\n",
       "      <td>2017-05-04 07:30:00+00:00</td>\n",
       "      <td>FOH</td>\n",
       "    </tr>\n",
       "    <tr>\n",
       "      <th>16</th>\n",
       "      <td>2017-05-04 08:00:00+00:00</td>\n",
       "      <td>POH</td>\n",
       "    </tr>\n",
       "  </tbody>\n",
       "</table>\n",
       "</div>"
      ],
      "text/plain": [
       "                       _time kpistatus\n",
       "0  2017-05-04 00:00:00+00:00       NaN\n",
       "1  2017-05-04 00:30:00+00:00       NaN\n",
       "2  2017-05-04 01:00:00+00:00   UNKNOWN\n",
       "3  2017-05-04 01:30:00+00:00   UNKNOWN\n",
       "4  2017-05-04 02:00:00+00:00   UNKNOWN\n",
       "5  2017-05-04 02:30:00+00:00        SH\n",
       "6  2017-05-04 03:00:00+00:00        SH\n",
       "7  2017-05-04 03:30:00+00:00       POH\n",
       "8  2017-05-04 04:00:00+00:00        SH\n",
       "9  2017-05-04 04:30:00+00:00        SH\n",
       "10 2017-05-04 05:00:00+00:00       POH\n",
       "11 2017-05-04 05:30:00+00:00       NaN\n",
       "12 2017-05-04 06:00:00+00:00       NaN\n",
       "13 2017-05-04 06:30:00+00:00   UNKNOWN\n",
       "14 2017-05-04 07:00:00+00:00       FOH\n",
       "15 2017-05-04 07:30:00+00:00       FOH\n",
       "16 2017-05-04 08:00:00+00:00       POH"
      ]
     },
     "execution_count": 4,
     "metadata": {},
     "output_type": "execute_result"
    }
   ],
   "source": [
    "data = pd.read_json(\"./data/kpis/sample-states.json\")\n",
    "data"
   ]
  },
  {
   "cell_type": "markdown",
   "metadata": {},
   "source": [
    "## Example KPIs:"
   ]
  },
  {
   "cell_type": "code",
   "execution_count": 5,
   "metadata": {},
   "outputs": [
    {
     "data": {
      "text/plain": [
       "<matplotlib.axes._subplots.AxesSubplot at 0x1fd621319e8>"
      ]
     },
     "execution_count": 5,
     "metadata": {},
     "output_type": "execute_result"
    },
    {
     "data": {
      "image/png": "[encoded data removed]",
      "text/plain": [
       "<Figure size 576x576 with 1 Axes>"
      ]
     },
     "metadata": {
      "needs_background": "light"
     },
     "output_type": "display_data"
    },
    {
     "data": {
      "image/png": "[encoded data removed]",
      "text/plain": [
       "<Figure size 576x576 with 1 Axes>"
      ]
     },
     "metadata": {
      "needs_background": "light"
     },
     "output_type": "display_data"
    }
   ],
   "source": [
    "!mc kpi-calculation \\\n",
    "--mode kpis \\\n",
    "--file \"data/kpis/sample-states.json\" \\\n",
    "--target kpistatus \\\n",
    "--initialstate RSH \\\n",
    "--passkey $passkey \\\n",
    "> temp/kpi-sample.json\n",
    "\n",
    "with open('temp/kpi-sample.json') as f:\n",
    "  data = json.load(f)\n",
    "\n",
    "df = json_normalize (data).transpose()\n",
    "df[0:8].plot(kind=\"bar\", title=\"availability\")\n",
    "df[9:].plot(kind=\"bar\", title=\"factor\")\n",
    "\n",
    "\n"
   ]
  },
  {
   "cell_type": "markdown",
   "metadata": {},
   "source": [
    "## Determining Unit States from Sensor Control Unit and Calendar Data¶\n",
    "\n",
    "This uses the example request from the [documentation](https://developer.mindsphere.io/apis/analytics-kpicalculation/api-kpicalculation-samples.html#determining-unit-states-from-sensor-control-unit-and-calendar-data) for calculation\n",
    "\n",
    "This sample provides a generic procedure for determining the State of a compressor with a pressure sensor, events from the compressor control unit and a maintenance calendar.\n",
    "                                                       \n",
    "![](https://developer.mindsphere.io/apis/analytics-kpicalculation/images/Use-case-2-Example.png)\n",
    "\n",
    "## Calculate the states"
   ]
  },
  {
   "cell_type": "markdown",
   "metadata": {},
   "source": [
    "Timeseries data:"
   ]
  },
  {
   "cell_type": "code",
   "execution_count": 136,
   "metadata": {},
   "outputs": [
    {
     "data": {
      "text/html": [
       "<div>\n",
       "<style scoped>\n",
       "    .dataframe tbody tr th:only-of-type {\n",
       "        vertical-align: middle;\n",
       "    }\n",
       "\n",
       "    .dataframe tbody tr th {\n",
       "        vertical-align: top;\n",
       "    }\n",
       "\n",
       "    .dataframe thead th {\n",
       "        text-align: right;\n",
       "    }\n",
       "</style>\n",
       "<table border=\"1\" class=\"dataframe\">\n",
       "  <thead>\n",
       "    <tr style=\"text-align: right;\">\n",
       "      <th></th>\n",
       "      <th>_time</th>\n",
       "      <th>sensor</th>\n",
       "      <th>sensor1</th>\n",
       "      <th>sensor2</th>\n",
       "    </tr>\n",
       "  </thead>\n",
       "  <tbody>\n",
       "    <tr>\n",
       "      <th>0</th>\n",
       "      <td>2017-01-01 00:10:00+00:00</td>\n",
       "      <td>2.0</td>\n",
       "      <td>2.0</td>\n",
       "      <td>NaN</td>\n",
       "    </tr>\n",
       "    <tr>\n",
       "      <th>1</th>\n",
       "      <td>2017-01-01 00:50:00+00:00</td>\n",
       "      <td>1.0</td>\n",
       "      <td>NaN</td>\n",
       "      <td>NaN</td>\n",
       "    </tr>\n",
       "    <tr>\n",
       "      <th>2</th>\n",
       "      <td>2017-01-01 01:00:00+00:00</td>\n",
       "      <td>2.0</td>\n",
       "      <td>NaN</td>\n",
       "      <td>NaN</td>\n",
       "    </tr>\n",
       "    <tr>\n",
       "      <th>3</th>\n",
       "      <td>2017-01-01 01:30:00+00:00</td>\n",
       "      <td>1.0</td>\n",
       "      <td>NaN</td>\n",
       "      <td>NaN</td>\n",
       "    </tr>\n",
       "    <tr>\n",
       "      <th>4</th>\n",
       "      <td>2017-01-01 02:00:00+00:00</td>\n",
       "      <td>2.0</td>\n",
       "      <td>NaN</td>\n",
       "      <td>NaN</td>\n",
       "    </tr>\n",
       "    <tr>\n",
       "      <th>5</th>\n",
       "      <td>2017-01-01 03:00:00+00:00</td>\n",
       "      <td>1.0</td>\n",
       "      <td>NaN</td>\n",
       "      <td>NaN</td>\n",
       "    </tr>\n",
       "    <tr>\n",
       "      <th>6</th>\n",
       "      <td>2017-01-01 03:30:00+00:00</td>\n",
       "      <td>2.0</td>\n",
       "      <td>NaN</td>\n",
       "      <td>NaN</td>\n",
       "    </tr>\n",
       "    <tr>\n",
       "      <th>7</th>\n",
       "      <td>2017-01-01 04:30:00+00:00</td>\n",
       "      <td>1.0</td>\n",
       "      <td>NaN</td>\n",
       "      <td>NaN</td>\n",
       "    </tr>\n",
       "    <tr>\n",
       "      <th>8</th>\n",
       "      <td>2017-01-01 05:10:00+00:00</td>\n",
       "      <td>1.0</td>\n",
       "      <td>NaN</td>\n",
       "      <td>NaN</td>\n",
       "    </tr>\n",
       "    <tr>\n",
       "      <th>9</th>\n",
       "      <td>2017-01-01 05:30:00+00:00</td>\n",
       "      <td>NaN</td>\n",
       "      <td>1.0</td>\n",
       "      <td>NaN</td>\n",
       "    </tr>\n",
       "    <tr>\n",
       "      <th>10</th>\n",
       "      <td>2017-01-01 05:50:00+00:00</td>\n",
       "      <td>2.0</td>\n",
       "      <td>NaN</td>\n",
       "      <td>NaN</td>\n",
       "    </tr>\n",
       "    <tr>\n",
       "      <th>11</th>\n",
       "      <td>2017-01-01 06:30:00+00:00</td>\n",
       "      <td>NaN</td>\n",
       "      <td>NaN</td>\n",
       "      <td>3.0</td>\n",
       "    </tr>\n",
       "    <tr>\n",
       "      <th>12</th>\n",
       "      <td>2017-01-01 07:10:00+00:00</td>\n",
       "      <td>1.0</td>\n",
       "      <td>NaN</td>\n",
       "      <td>NaN</td>\n",
       "    </tr>\n",
       "    <tr>\n",
       "      <th>13</th>\n",
       "      <td>2017-01-01 07:20:00+00:00</td>\n",
       "      <td>2.0</td>\n",
       "      <td>NaN</td>\n",
       "      <td>NaN</td>\n",
       "    </tr>\n",
       "  </tbody>\n",
       "</table>\n",
       "</div>"
      ],
      "text/plain": [
       "                       _time  sensor  sensor1  sensor2\n",
       "0  2017-01-01 00:10:00+00:00     2.0      2.0      NaN\n",
       "1  2017-01-01 00:50:00+00:00     1.0      NaN      NaN\n",
       "2  2017-01-01 01:00:00+00:00     2.0      NaN      NaN\n",
       "3  2017-01-01 01:30:00+00:00     1.0      NaN      NaN\n",
       "4  2017-01-01 02:00:00+00:00     2.0      NaN      NaN\n",
       "5  2017-01-01 03:00:00+00:00     1.0      NaN      NaN\n",
       "6  2017-01-01 03:30:00+00:00     2.0      NaN      NaN\n",
       "7  2017-01-01 04:30:00+00:00     1.0      NaN      NaN\n",
       "8  2017-01-01 05:10:00+00:00     1.0      NaN      NaN\n",
       "9  2017-01-01 05:30:00+00:00     NaN      1.0      NaN\n",
       "10 2017-01-01 05:50:00+00:00     2.0      NaN      NaN\n",
       "11 2017-01-01 06:30:00+00:00     NaN      NaN      3.0\n",
       "12 2017-01-01 07:10:00+00:00     1.0      NaN      NaN\n",
       "13 2017-01-01 07:20:00+00:00     2.0      NaN      NaN"
      ]
     },
     "execution_count": 136,
     "metadata": {},
     "output_type": "execute_result"
    }
   ],
   "source": [
    "data = pd.read_json(\"./data/kpis/sample-timeseries.json\")\n",
    "data"
   ]
  },
  {
   "cell_type": "markdown",
   "metadata": {},
   "source": [
    "calendar data:"
   ]
  },
  {
   "cell_type": "code",
   "execution_count": 145,
   "metadata": {},
   "outputs": [
    {
     "data": {
      "text/html": [
       "<div>\n",
       "<style scoped>\n",
       "    .dataframe tbody tr th:only-of-type {\n",
       "        vertical-align: middle;\n",
       "    }\n",
       "\n",
       "    .dataframe tbody tr th {\n",
       "        vertical-align: top;\n",
       "    }\n",
       "\n",
       "    .dataframe thead th {\n",
       "        text-align: right;\n",
       "    }\n",
       "</style>\n",
       "<table border=\"1\" class=\"dataframe\">\n",
       "  <thead>\n",
       "    <tr style=\"text-align: right;\">\n",
       "      <th></th>\n",
       "      <th>PlannedOutage</th>\n",
       "    </tr>\n",
       "  </thead>\n",
       "  <tbody>\n",
       "    <tr>\n",
       "      <th>0</th>\n",
       "      <td>{'from': '2017-01-01T10:00:00.000Z', 'to': '20...</td>\n",
       "    </tr>\n",
       "    <tr>\n",
       "      <th>1</th>\n",
       "      <td>{'from': '2017-01-01T06:00:00.000Z', 'to': '20...</td>\n",
       "    </tr>\n",
       "    <tr>\n",
       "      <th>2</th>\n",
       "      <td>{'from': '2017-01-01T00:00:00.000Z', 'to': '20...</td>\n",
       "    </tr>\n",
       "    <tr>\n",
       "      <th>3</th>\n",
       "      <td>{'from': '2017-01-01T04:00:00.000Z', 'to': '20...</td>\n",
       "    </tr>\n",
       "    <tr>\n",
       "      <th>4</th>\n",
       "      <td>{'from': '2017-01-01T02:00:00.000Z', 'to': '20...</td>\n",
       "    </tr>\n",
       "    <tr>\n",
       "      <th>5</th>\n",
       "      <td>{'from': '2017-01-01T08:00:00.000Z', 'to': '20...</td>\n",
       "    </tr>\n",
       "    <tr>\n",
       "      <th>6</th>\n",
       "      <td>{'from': '2016-12-31T22:00:00.000Z', 'to': '20...</td>\n",
       "    </tr>\n",
       "    <tr>\n",
       "      <th>7</th>\n",
       "      <td>{'from': '2017-01-01T03:00:00.000Z', 'to': '20...</td>\n",
       "    </tr>\n",
       "  </tbody>\n",
       "</table>\n",
       "</div>"
      ],
      "text/plain": [
       "                                       PlannedOutage\n",
       "0  {'from': '2017-01-01T10:00:00.000Z', 'to': '20...\n",
       "1  {'from': '2017-01-01T06:00:00.000Z', 'to': '20...\n",
       "2  {'from': '2017-01-01T00:00:00.000Z', 'to': '20...\n",
       "3  {'from': '2017-01-01T04:00:00.000Z', 'to': '20...\n",
       "4  {'from': '2017-01-01T02:00:00.000Z', 'to': '20...\n",
       "5  {'from': '2017-01-01T08:00:00.000Z', 'to': '20...\n",
       "6  {'from': '2016-12-31T22:00:00.000Z', 'to': '20...\n",
       "7  {'from': '2017-01-01T03:00:00.000Z', 'to': '20..."
      ]
     },
     "execution_count": 145,
     "metadata": {},
     "output_type": "execute_result"
    }
   ],
   "source": [
    "calendar = pd.read_json(\"./data/kpis/calendar.json\")\n",
    "calendar"
   ]
  },
  {
   "cell_type": "code",
   "execution_count": 146,
   "metadata": {},
   "outputs": [
    {
     "data": {
      "text/html": [
       "<div>\n",
       "<style scoped>\n",
       "    .dataframe tbody tr th:only-of-type {\n",
       "        vertical-align: middle;\n",
       "    }\n",
       "\n",
       "    .dataframe tbody tr th {\n",
       "        vertical-align: top;\n",
       "    }\n",
       "\n",
       "    .dataframe thead th {\n",
       "        text-align: right;\n",
       "    }\n",
       "</style>\n",
       "<table border=\"1\" class=\"dataframe\">\n",
       "  <thead>\n",
       "    <tr style=\"text-align: right;\">\n",
       "      <th></th>\n",
       "      <th>_time</th>\n",
       "      <th>type</th>\n",
       "    </tr>\n",
       "  </thead>\n",
       "  <tbody>\n",
       "    <tr>\n",
       "      <th>0</th>\n",
       "      <td>2017-01-01 01:29:57+00:00</td>\n",
       "      <td>NORMAL_STOP</td>\n",
       "    </tr>\n",
       "    <tr>\n",
       "      <th>1</th>\n",
       "      <td>2017-01-01 01:30:00+00:00</td>\n",
       "      <td>SHUTDOWN</td>\n",
       "    </tr>\n",
       "    <tr>\n",
       "      <th>2</th>\n",
       "      <td>2017-01-01 04:30:01+00:00</td>\n",
       "      <td>SHUTDOWN</td>\n",
       "    </tr>\n",
       "  </tbody>\n",
       "</table>\n",
       "</div>"
      ],
      "text/plain": [
       "                      _time         type\n",
       "0 2017-01-01 01:29:57+00:00  NORMAL_STOP\n",
       "1 2017-01-01 01:30:00+00:00     SHUTDOWN\n",
       "2 2017-01-01 04:30:01+00:00     SHUTDOWN"
      ]
     },
     "execution_count": 146,
     "metadata": {},
     "output_type": "execute_result"
    }
   ],
   "source": [
    "events = pd.read_json(\"./data/kpis/sample-events.json\")\n",
    "events"
   ]
  },
  {
   "cell_type": "code",
   "execution_count": 147,
   "metadata": {},
   "outputs": [
    {
     "data": {
      "text/html": [
       "<div>\n",
       "<style scoped>\n",
       "    .dataframe tbody tr th:only-of-type {\n",
       "        vertical-align: middle;\n",
       "    }\n",
       "\n",
       "    .dataframe tbody tr th {\n",
       "        vertical-align: top;\n",
       "    }\n",
       "\n",
       "    .dataframe thead th {\n",
       "        text-align: right;\n",
       "    }\n",
       "</style>\n",
       "<table border=\"1\" class=\"dataframe\">\n",
       "  <thead>\n",
       "    <tr style=\"text-align: right;\">\n",
       "      <th></th>\n",
       "      <th>_time</th>\n",
       "      <th>state</th>\n",
       "      <th>source</th>\n",
       "    </tr>\n",
       "  </thead>\n",
       "  <tbody>\n",
       "    <tr>\n",
       "      <th>0</th>\n",
       "      <td>2017-01-01 00:10:00+00:00</td>\n",
       "      <td>SH</td>\n",
       "      <td>SIGNAL</td>\n",
       "    </tr>\n",
       "    <tr>\n",
       "      <th>1</th>\n",
       "      <td>2017-01-01 00:50:00+00:00</td>\n",
       "      <td>FOH</td>\n",
       "      <td>DEFAULT</td>\n",
       "    </tr>\n",
       "    <tr>\n",
       "      <th>2</th>\n",
       "      <td>2017-01-01 01:00:00+00:00</td>\n",
       "      <td>SH</td>\n",
       "      <td>SIGNAL</td>\n",
       "    </tr>\n",
       "    <tr>\n",
       "      <th>3</th>\n",
       "      <td>2017-01-01 01:30:00+00:00</td>\n",
       "      <td>FOH</td>\n",
       "      <td>DEFAULT</td>\n",
       "    </tr>\n",
       "    <tr>\n",
       "      <th>4</th>\n",
       "      <td>2017-01-01 02:00:00+00:00</td>\n",
       "      <td>POH</td>\n",
       "      <td>CALENDAR</td>\n",
       "    </tr>\n",
       "    <tr>\n",
       "      <th>5</th>\n",
       "      <td>2017-01-01 03:00:00+00:00</td>\n",
       "      <td>POH</td>\n",
       "      <td>CALENDAR</td>\n",
       "    </tr>\n",
       "    <tr>\n",
       "      <th>6</th>\n",
       "      <td>2017-01-01 04:00:00+00:00</td>\n",
       "      <td>POH</td>\n",
       "      <td>CALENDAR</td>\n",
       "    </tr>\n",
       "    <tr>\n",
       "      <th>7</th>\n",
       "      <td>2017-01-01 05:00:00+00:00</td>\n",
       "      <td>FOH</td>\n",
       "      <td>DEFAULT</td>\n",
       "    </tr>\n",
       "    <tr>\n",
       "      <th>8</th>\n",
       "      <td>2017-01-01 05:10:00+00:00</td>\n",
       "      <td>FOH</td>\n",
       "      <td>DEFAULT</td>\n",
       "    </tr>\n",
       "    <tr>\n",
       "      <th>9</th>\n",
       "      <td>2017-01-01 05:30:00+00:00</td>\n",
       "      <td>FOH</td>\n",
       "      <td>DEFAULT</td>\n",
       "    </tr>\n",
       "    <tr>\n",
       "      <th>10</th>\n",
       "      <td>2017-01-01 05:50:00+00:00</td>\n",
       "      <td>SH</td>\n",
       "      <td>SIGNAL</td>\n",
       "    </tr>\n",
       "    <tr>\n",
       "      <th>11</th>\n",
       "      <td>2017-01-01 06:00:00+00:00</td>\n",
       "      <td>POH</td>\n",
       "      <td>CALENDAR</td>\n",
       "    </tr>\n",
       "    <tr>\n",
       "      <th>12</th>\n",
       "      <td>2017-01-01 07:00:00+00:00</td>\n",
       "      <td>SH</td>\n",
       "      <td>SIGNAL</td>\n",
       "    </tr>\n",
       "    <tr>\n",
       "      <th>13</th>\n",
       "      <td>2017-01-01 07:10:00+00:00</td>\n",
       "      <td>FOH</td>\n",
       "      <td>DEFAULT</td>\n",
       "    </tr>\n",
       "    <tr>\n",
       "      <th>14</th>\n",
       "      <td>2017-01-01 07:20:00+00:00</td>\n",
       "      <td>SH</td>\n",
       "      <td>SIGNAL</td>\n",
       "    </tr>\n",
       "  </tbody>\n",
       "</table>\n",
       "</div>"
      ],
      "text/plain": [
       "                       _time state    source\n",
       "0  2017-01-01 00:10:00+00:00    SH    SIGNAL\n",
       "1  2017-01-01 00:50:00+00:00   FOH   DEFAULT\n",
       "2  2017-01-01 01:00:00+00:00    SH    SIGNAL\n",
       "3  2017-01-01 01:30:00+00:00   FOH   DEFAULT\n",
       "4  2017-01-01 02:00:00+00:00   POH  CALENDAR\n",
       "5  2017-01-01 03:00:00+00:00   POH  CALENDAR\n",
       "6  2017-01-01 04:00:00+00:00   POH  CALENDAR\n",
       "7  2017-01-01 05:00:00+00:00   FOH   DEFAULT\n",
       "8  2017-01-01 05:10:00+00:00   FOH   DEFAULT\n",
       "9  2017-01-01 05:30:00+00:00   FOH   DEFAULT\n",
       "10 2017-01-01 05:50:00+00:00    SH    SIGNAL\n",
       "11 2017-01-01 06:00:00+00:00   POH  CALENDAR\n",
       "12 2017-01-01 07:00:00+00:00    SH    SIGNAL\n",
       "13 2017-01-01 07:10:00+00:00   FOH   DEFAULT\n",
       "14 2017-01-01 07:20:00+00:00    SH    SIGNAL"
      ]
     },
     "execution_count": 147,
     "metadata": {},
     "output_type": "execute_result"
    }
   ],
   "source": [
    "!mc kpi-calculation \\\n",
    "--mode states \\\n",
    "--file \"./data/kpis/sample-timeseries.json\" \\\n",
    "--calendar \"./data/kpis/calendar.json\" \\\n",
    "--events \"./data/kpis/sample-events.json\" \\\n",
    "--target sensor \\\n",
    "--threshold 1.1 \\\n",
    "--shutdown 5000 \\\n",
    "--passkey $passkey \\\n",
    "> temp/compressor-states.json\n",
    "\n",
    "compressor = pd.read_json(\"./temp/compressor-states.json\")\n",
    "compressor\n"
   ]
  },
  {
   "cell_type": "markdown",
   "metadata": {},
   "source": [
    "## Calculate kpis for compressor"
   ]
  },
  {
   "cell_type": "code",
   "execution_count": 133,
   "metadata": {},
   "outputs": [
    {
     "data": {
      "text/plain": [
       "<matplotlib.axes._subplots.AxesSubplot at 0x2083140ab00>"
      ]
     },
     "execution_count": 133,
     "metadata": {},
     "output_type": "execute_result"
    },
    {
     "data": {
      "image/png": "[encoded data removed]",
      "text/plain": [
       "<Figure size 576x576 with 1 Axes>"
      ]
     },
     "metadata": {
      "needs_background": "light"
     },
     "output_type": "display_data"
    },
    {
     "data": {
      "image/png": "[encoded data removed]",
      "text/plain": [
       "<Figure size 576x576 with 1 Axes>"
      ]
     },
     "metadata": {
      "needs_background": "light"
     },
     "output_type": "display_data"
    }
   ],
   "source": [
    "!mc kpi-calculation \\\n",
    "--mode kpis \\\n",
    "--file \"temp/compressor-states.json\" \\\n",
    "--target kpistatus \\\n",
    "--initialstate RSH \\\n",
    "--passkey $passkey \\\n",
    "> temp/kpi-compressor.json\n",
    "\n",
    "with open('temp/kpi-compressor.json') as f:\n",
    "  data = json.load(f)\n",
    "\n",
    "df = json_normalize (data).transpose()\n",
    "df[0:8].plot(kind=\"bar\", title=\"availability\")\n",
    "df[9:].plot(kind=\"bar\", title=\"factor\")\n"
   ]
  },
  {
   "cell_type": "markdown",
   "metadata": {},
   "source": [
    "## Industrial Pump - TimeSeries Data\n",
    "\n",
    "We will use the downloaded industrial pump data from MindSphere to try to fit the model which can predict flow problems. \n",
    "The mindsphere demo application is available at\n",
    "\n",
    "https://dreamforce.mindconnect.rocks\n",
    "\n",
    "This application can be used without mindsphere credentials. \n",
    "* username: guest@mindsphere.io\n",
    "* password: Siemens123!\n",
    "\n",
    "Following data was recorded over the time:\n",
    "\n",
    "- **Flow** - Water flow through the pump\n",
    "- **MotorCurrent** Motor Current\n",
    "- **PressureIn** Inlet pressure\n",
    "- **PressureOut** Outlet pressure\n",
    "- **StuffingBoxTemperature** The temperature of the pump\n",
    "\n",
    "![pumpschema](./images/Pump-Station-Scheme.jpg)\n",
    "\n",
    "The historic data was downloaded from MindSphere and  is available in the **data** directory of this notebook.\n"
   ]
  },
  {
   "cell_type": "markdown",
   "metadata": {},
   "source": [
    "## First look at the data\n",
    "\n",
    "The first file already has a typical behavior of the malfunctioning pump. The stuffing box temperature is increased and the flow is dropping."
   ]
  },
  {
   "cell_type": "code",
   "execution_count": 52,
   "metadata": {},
   "outputs": [
    {
     "data": {
      "text/plain": [
       "<matplotlib.axes._subplots.AxesSubplot at 0x2082cfef630>"
      ]
     },
     "execution_count": 52,
     "metadata": {},
     "output_type": "execute_result"
    },
    {
     "data": {
      "image/png": "[encoded data removed]",
      "text/plain": [
       "<Figure size 576x576 with 1 Axes>"
      ]
     },
     "metadata": {
      "needs_background": "light"
     },
     "output_type": "display_data"
    }
   ],
   "source": [
    "data = pd.read_json(\"./data/PUMP-011/PumpData/PumpData_0.json\")\n",
    "data.plot(x=\"_time\")"
   ]
  },
  {
   "cell_type": "markdown",
   "metadata": {},
   "source": [
    "## Determining the KPI States\n",
    "\n",
    "We will use the PUMP-011 data which is showing problems with flow availability.\n",
    "\n",
    "See also : https://developer.mindsphere.io/apis/analytics-kpicalculation/api-kpicalculation-overview.html\n"
   ]
  },
  {
   "cell_type": "code",
   "execution_count": 53,
   "metadata": {},
   "outputs": [
    {
     "data": {
      "text/html": [
       "<div>\n",
       "<style scoped>\n",
       "    .dataframe tbody tr th:only-of-type {\n",
       "        vertical-align: middle;\n",
       "    }\n",
       "\n",
       "    .dataframe tbody tr th {\n",
       "        vertical-align: top;\n",
       "    }\n",
       "\n",
       "    .dataframe thead th {\n",
       "        text-align: right;\n",
       "    }\n",
       "</style>\n",
       "<table border=\"1\" class=\"dataframe\">\n",
       "  <thead>\n",
       "    <tr style=\"text-align: right;\">\n",
       "      <th></th>\n",
       "      <th>MotorCurrent</th>\n",
       "      <th>PressureOut</th>\n",
       "      <th>StuffingBoxTemperature</th>\n",
       "      <th>PressureIn</th>\n",
       "      <th>_time</th>\n",
       "      <th>Flow</th>\n",
       "    </tr>\n",
       "  </thead>\n",
       "  <tbody>\n",
       "    <tr>\n",
       "      <th>0</th>\n",
       "      <td>50.0</td>\n",
       "      <td>2.92081</td>\n",
       "      <td>25.0</td>\n",
       "      <td>1.0</td>\n",
       "      <td>2020-02-05 23:00:00.278000+00:00</td>\n",
       "      <td>240.996</td>\n",
       "    </tr>\n",
       "    <tr>\n",
       "      <th>1</th>\n",
       "      <td>50.0</td>\n",
       "      <td>3.02930</td>\n",
       "      <td>25.0</td>\n",
       "      <td>1.0</td>\n",
       "      <td>2020-02-05 23:00:10.332000+00:00</td>\n",
       "      <td>248.293</td>\n",
       "    </tr>\n",
       "    <tr>\n",
       "      <th>2</th>\n",
       "      <td>51.0</td>\n",
       "      <td>3.03644</td>\n",
       "      <td>25.0</td>\n",
       "      <td>1.0</td>\n",
       "      <td>2020-02-05 23:00:20.385000+00:00</td>\n",
       "      <td>249.549</td>\n",
       "    </tr>\n",
       "    <tr>\n",
       "      <th>3</th>\n",
       "      <td>51.0</td>\n",
       "      <td>2.97076</td>\n",
       "      <td>25.0</td>\n",
       "      <td>1.0</td>\n",
       "      <td>2020-02-05 23:00:30.441000+00:00</td>\n",
       "      <td>245.991</td>\n",
       "    </tr>\n",
       "    <tr>\n",
       "      <th>4</th>\n",
       "      <td>49.0</td>\n",
       "      <td>3.09670</td>\n",
       "      <td>25.0</td>\n",
       "      <td>1.0</td>\n",
       "      <td>2020-02-05 23:00:40.496000+00:00</td>\n",
       "      <td>240.101</td>\n",
       "    </tr>\n",
       "    <tr>\n",
       "      <th>5</th>\n",
       "      <td>51.0</td>\n",
       "      <td>2.98840</td>\n",
       "      <td>25.0</td>\n",
       "      <td>1.0</td>\n",
       "      <td>2020-02-05 23:00:50.560000+00:00</td>\n",
       "      <td>244.602</td>\n",
       "    </tr>\n",
       "    <tr>\n",
       "      <th>6</th>\n",
       "      <td>49.0</td>\n",
       "      <td>2.94345</td>\n",
       "      <td>25.0</td>\n",
       "      <td>1.0</td>\n",
       "      <td>2020-02-05 23:01:00.615000+00:00</td>\n",
       "      <td>242.534</td>\n",
       "    </tr>\n",
       "    <tr>\n",
       "      <th>7</th>\n",
       "      <td>51.0</td>\n",
       "      <td>3.04051</td>\n",
       "      <td>25.0</td>\n",
       "      <td>1.0</td>\n",
       "      <td>2020-02-05 23:01:10.668000+00:00</td>\n",
       "      <td>249.716</td>\n",
       "    </tr>\n",
       "    <tr>\n",
       "      <th>8</th>\n",
       "      <td>51.0</td>\n",
       "      <td>2.95434</td>\n",
       "      <td>25.0</td>\n",
       "      <td>1.0</td>\n",
       "      <td>2020-02-05 23:01:20.729000+00:00</td>\n",
       "      <td>246.405</td>\n",
       "    </tr>\n",
       "    <tr>\n",
       "      <th>9</th>\n",
       "      <td>51.0</td>\n",
       "      <td>2.94290</td>\n",
       "      <td>25.0</td>\n",
       "      <td>1.0</td>\n",
       "      <td>2020-02-05 23:01:30.786000+00:00</td>\n",
       "      <td>242.101</td>\n",
       "    </tr>\n",
       "  </tbody>\n",
       "</table>\n",
       "</div>"
      ],
      "text/plain": [
       "   MotorCurrent  PressureOut  StuffingBoxTemperature  PressureIn  \\\n",
       "0          50.0      2.92081                    25.0         1.0   \n",
       "1          50.0      3.02930                    25.0         1.0   \n",
       "2          51.0      3.03644                    25.0         1.0   \n",
       "3          51.0      2.97076                    25.0         1.0   \n",
       "4          49.0      3.09670                    25.0         1.0   \n",
       "5          51.0      2.98840                    25.0         1.0   \n",
       "6          49.0      2.94345                    25.0         1.0   \n",
       "7          51.0      3.04051                    25.0         1.0   \n",
       "8          51.0      2.95434                    25.0         1.0   \n",
       "9          51.0      2.94290                    25.0         1.0   \n",
       "\n",
       "                             _time     Flow  \n",
       "0 2020-02-05 23:00:00.278000+00:00  240.996  \n",
       "1 2020-02-05 23:00:10.332000+00:00  248.293  \n",
       "2 2020-02-05 23:00:20.385000+00:00  249.549  \n",
       "3 2020-02-05 23:00:30.441000+00:00  245.991  \n",
       "4 2020-02-05 23:00:40.496000+00:00  240.101  \n",
       "5 2020-02-05 23:00:50.560000+00:00  244.602  \n",
       "6 2020-02-05 23:01:00.615000+00:00  242.534  \n",
       "7 2020-02-05 23:01:10.668000+00:00  249.716  \n",
       "8 2020-02-05 23:01:20.729000+00:00  246.405  \n",
       "9 2020-02-05 23:01:30.786000+00:00  242.101  "
      ]
     },
     "execution_count": 53,
     "metadata": {},
     "output_type": "execute_result"
    }
   ],
   "source": [
    "data.head(10)"
   ]
  },
  {
   "cell_type": "markdown",
   "metadata": {},
   "source": [
    "## KPI State Calculation \n",
    "\n",
    "First step is to calculate the corresponding KPI states from the Flow signal. We will assume that the flow must be > 200 for the machine to be running. \n"
   ]
  },
  {
   "cell_type": "code",
   "execution_count": 56,
   "metadata": {},
   "outputs": [
    {
     "data": {
      "text/html": [
       "<div>\n",
       "<style scoped>\n",
       "    .dataframe tbody tr th:only-of-type {\n",
       "        vertical-align: middle;\n",
       "    }\n",
       "\n",
       "    .dataframe tbody tr th {\n",
       "        vertical-align: top;\n",
       "    }\n",
       "\n",
       "    .dataframe thead th {\n",
       "        text-align: right;\n",
       "    }\n",
       "</style>\n",
       "<table border=\"1\" class=\"dataframe\">\n",
       "  <thead>\n",
       "    <tr style=\"text-align: right;\">\n",
       "      <th></th>\n",
       "      <th>_time</th>\n",
       "      <th>state</th>\n",
       "      <th>source</th>\n",
       "    </tr>\n",
       "  </thead>\n",
       "  <tbody>\n",
       "    <tr>\n",
       "      <th>0</th>\n",
       "      <td>2020-02-05T23:00:00.278Z</td>\n",
       "      <td>RSH</td>\n",
       "      <td>DEFAULT</td>\n",
       "    </tr>\n",
       "    <tr>\n",
       "      <th>1</th>\n",
       "      <td>2020-02-05T23:00:10.332Z</td>\n",
       "      <td>RSH</td>\n",
       "      <td>DEFAULT</td>\n",
       "    </tr>\n",
       "    <tr>\n",
       "      <th>2</th>\n",
       "      <td>2020-02-05T23:00:20.385Z</td>\n",
       "      <td>RSH</td>\n",
       "      <td>DEFAULT</td>\n",
       "    </tr>\n",
       "    <tr>\n",
       "      <th>3</th>\n",
       "      <td>2020-02-05T23:00:30.441Z</td>\n",
       "      <td>RSH</td>\n",
       "      <td>DEFAULT</td>\n",
       "    </tr>\n",
       "    <tr>\n",
       "      <th>4</th>\n",
       "      <td>2020-02-05T23:00:40.496Z</td>\n",
       "      <td>RSH</td>\n",
       "      <td>DEFAULT</td>\n",
       "    </tr>\n",
       "    <tr>\n",
       "      <th>...</th>\n",
       "      <td>...</td>\n",
       "      <td>...</td>\n",
       "      <td>...</td>\n",
       "    </tr>\n",
       "    <tr>\n",
       "      <th>195</th>\n",
       "      <td>2020-02-05T23:32:41.097Z</td>\n",
       "      <td>RSH</td>\n",
       "      <td>DEFAULT</td>\n",
       "    </tr>\n",
       "    <tr>\n",
       "      <th>196</th>\n",
       "      <td>2020-02-05T23:32:51.150Z</td>\n",
       "      <td>RSH</td>\n",
       "      <td>DEFAULT</td>\n",
       "    </tr>\n",
       "    <tr>\n",
       "      <th>197</th>\n",
       "      <td>2020-02-05T23:33:01.206Z</td>\n",
       "      <td>RSH</td>\n",
       "      <td>DEFAULT</td>\n",
       "    </tr>\n",
       "    <tr>\n",
       "      <th>198</th>\n",
       "      <td>2020-02-05T23:33:11.261Z</td>\n",
       "      <td>RSH</td>\n",
       "      <td>DEFAULT</td>\n",
       "    </tr>\n",
       "    <tr>\n",
       "      <th>199</th>\n",
       "      <td>2020-02-05T23:33:21.314Z</td>\n",
       "      <td>RSH</td>\n",
       "      <td>DEFAULT</td>\n",
       "    </tr>\n",
       "  </tbody>\n",
       "</table>\n",
       "<p>200 rows × 3 columns</p>\n",
       "</div>"
      ],
      "text/plain": [
       "                        _time state   source\n",
       "0    2020-02-05T23:00:00.278Z   RSH  DEFAULT\n",
       "1    2020-02-05T23:00:10.332Z   RSH  DEFAULT\n",
       "2    2020-02-05T23:00:20.385Z   RSH  DEFAULT\n",
       "3    2020-02-05T23:00:30.441Z   RSH  DEFAULT\n",
       "4    2020-02-05T23:00:40.496Z   RSH  DEFAULT\n",
       "..                        ...   ...      ...\n",
       "195  2020-02-05T23:32:41.097Z   RSH  DEFAULT\n",
       "196  2020-02-05T23:32:51.150Z   RSH  DEFAULT\n",
       "197  2020-02-05T23:33:01.206Z   RSH  DEFAULT\n",
       "198  2020-02-05T23:33:11.261Z   RSH  DEFAULT\n",
       "199  2020-02-05T23:33:21.314Z   RSH  DEFAULT\n",
       "\n",
       "[200 rows x 3 columns]"
      ]
     },
     "execution_count": 56,
     "metadata": {},
     "output_type": "execute_result"
    }
   ],
   "source": [
    "!mc kpi-calculation \\\n",
    "--mode states \\\n",
    "--file \"./data/PUMP-011/PumpData/PumpData_0.json\" \\\n",
    "--target State \\\n",
    "--threshold 200 \\\n",
    "--shutdown 20000 \\\n",
    "--passkey $passkey \\\n",
    "> temp/states.json\n",
    "\n",
    "with open('temp/states.json') as f:\n",
    "  data = json.load(f)\n",
    "\n",
    "df = json_normalize (data)\n",
    "df\n"
   ]
  },
  {
   "cell_type": "markdown",
   "metadata": {},
   "source": [
    "## Calculating KPIs\n",
    "\n",
    "We will now calculate the KPIs for the selected time period:"
   ]
  },
  {
   "cell_type": "code",
   "execution_count": 148,
   "metadata": {},
   "outputs": [
    {
     "data": {
      "text/plain": [
       "<matplotlib.axes._subplots.AxesSubplot at 0x20831473198>"
      ]
     },
     "execution_count": 148,
     "metadata": {},
     "output_type": "execute_result"
    },
    {
     "data": {
      "image/png": "[encoded data removed]",
      "text/plain": [
       "<Figure size 576x576 with 1 Axes>"
      ]
     },
     "metadata": {
      "needs_background": "light"
     },
     "output_type": "display_data"
    },
    {
     "data": {
      "image/png": "[encoded data removed]",
      "text/plain": [
       "<Figure size 576x576 with 1 Axes>"
      ]
     },
     "metadata": {
      "needs_background": "light"
     },
     "output_type": "display_data"
    }
   ],
   "source": [
    "result = !mc kpi-calculation \\\n",
    "--mode kpis \\\n",
    "--file \"temp/states.json\" \\\n",
    "--target State \\\n",
    "--passkey $passkey \\\n",
    "> temp/kpi.json\n",
    "\n",
    "with open('temp/kpi.json') as f:\n",
    "  data = json.load(f)\n",
    "\n",
    "df = json_normalize (data).transpose()\n",
    "df[0:8].plot(kind=\"bar\", title=\"availability\")\n",
    "df[9:].plot(kind=\"bar\", title=\"factor\")\n"
   ]
  },
  {
   "cell_type": "markdown",
   "metadata": {},
   "source": [
    "## Siemens API Notice\n",
    "\n",
    "This project has been released under an Open Source license. The release may include and/or use APIs to Siemens’ or third parties’ products or services. In no event shall the project’s Open Source license grant any rights in or to these APIs, products or services that would alter, expand, be inconsistent with, or supersede any terms of separate license agreements applicable to those APIs. “API” means application programming interfaces and their specifications and implementing code that allows other software to communicate with or call on Siemens’ or third parties’ products or services and may be made available through Siemens’ or third parties’ products, documentations or otherwise."
   ]
  }
 ],
 "metadata": {
  "kernelspec": {
   "display_name": "Python 3",
   "language": "python",
   "name": "python3"
  },
  "language_info": {
   "codemirror_mode": {
    "name": "ipython",
    "version": 3
   },
   "file_extension": ".py",
   "mimetype": "text/x-python",
   "name": "python",
   "nbconvert_exporter": "python",
   "pygments_lexer": "ipython3",
   "version": "3.6.8"
  }
 },
 "nbformat": 4,
 "nbformat_minor": 4
}
